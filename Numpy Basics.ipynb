{
 "cells": [
  {
   "cell_type": "code",
   "execution_count": 5,
   "id": "88e2197f",
   "metadata": {},
   "outputs": [],
   "source": [
    "import numpy as np"
   ]
  },
  {
   "cell_type": "code",
   "execution_count": 6,
   "id": "266fdbc1",
   "metadata": {},
   "outputs": [
    {
     "data": {
      "text/plain": [
       "array([1, 2, 3, 4])"
      ]
     },
     "execution_count": 6,
     "metadata": {},
     "output_type": "execute_result"
    }
   ],
   "source": [
    "np.array([1,2,3,4])"
   ]
  },
  {
   "cell_type": "code",
   "execution_count": 7,
   "id": "af54771f",
   "metadata": {},
   "outputs": [],
   "source": [
    "#Numpy is Numerical python package, use  for numerical calculation \n",
    "#An array is a fundamental data structure that allows you to store and manipulate large amounts of numerical data efficiently. Think of an array as a container that holds multiple values of the same data type arranged in a grid-like structure."
   ]
  },
  {
   "cell_type": "code",
   "execution_count": 17,
   "id": "19c07eed",
   "metadata": {},
   "outputs": [],
   "source": [
    "l = [1,2,3,4,5,6,7]"
   ]
  },
  {
   "cell_type": "code",
   "execution_count": 18,
   "id": "9735365b",
   "metadata": {},
   "outputs": [
    {
     "data": {
      "text/plain": [
       "array([1, 2, 3, 4, 5, 6, 7])"
      ]
     },
     "execution_count": 18,
     "metadata": {},
     "output_type": "execute_result"
    }
   ],
   "source": [
    "np.array(l)"
   ]
  },
  {
   "cell_type": "code",
   "execution_count": 19,
   "id": "397d4485",
   "metadata": {},
   "outputs": [],
   "source": [
    "l1 = [4,5,7,\"data\",34.5, True]"
   ]
  },
  {
   "cell_type": "code",
   "execution_count": 27,
   "id": "09b0ee78",
   "metadata": {},
   "outputs": [],
   "source": [
    "a1= np.array(l1)  # convered everything in string, dtype='<U32'--> internal representation of data type for numpy array"
   ]
  },
  {
   "cell_type": "code",
   "execution_count": 8,
   "id": "738fe063",
   "metadata": {},
   "outputs": [
    {
     "data": {
      "text/plain": [
       "numpy.ndarray"
      ]
     },
     "execution_count": 8,
     "metadata": {},
     "output_type": "execute_result"
    }
   ],
   "source": [
    "type(np.array([1,2,3,4])) #1d array"
   ]
  },
  {
   "cell_type": "code",
   "execution_count": 26,
   "id": "96c28292",
   "metadata": {},
   "outputs": [],
   "source": [
    "a2 = np.array([[2,3,4],[3,4,7]])"
   ]
  },
  {
   "cell_type": "code",
   "execution_count": 10,
   "id": "d2a68f84",
   "metadata": {},
   "outputs": [
    {
     "data": {
      "text/plain": [
       "numpy.ndarray"
      ]
     },
     "execution_count": 10,
     "metadata": {},
     "output_type": "execute_result"
    }
   ],
   "source": [
    "type(np.array([[2,3,4],[3,4,7]]))  # 2d array"
   ]
  },
  {
   "cell_type": "code",
   "execution_count": 11,
   "id": "75df4227",
   "metadata": {},
   "outputs": [
    {
     "data": {
      "text/plain": [
       "array([[1, 2, 3, 4],\n",
       "       [2, 3, 4, 5]])"
      ]
     },
     "execution_count": 11,
     "metadata": {},
     "output_type": "execute_result"
    }
   ],
   "source": [
    "np.array([[1,2,3,4], [2,3,4,5]])"
   ]
  },
  {
   "cell_type": "code",
   "execution_count": 29,
   "id": "6e8da211",
   "metadata": {},
   "outputs": [],
   "source": [
    "l1 = [4,5,7,\"data\",34.5, True]"
   ]
  },
  {
   "cell_type": "code",
   "execution_count": null,
   "id": "a48137fc",
   "metadata": {},
   "outputs": [],
   "source": [
    "a1= np.array(l1)"
   ]
  },
  {
   "cell_type": "code",
   "execution_count": null,
   "id": "58019587",
   "metadata": {},
   "outputs": [],
   "source": [
    "a2 = np.array([[2,3,4],[3,4,7]])"
   ]
  },
  {
   "cell_type": "code",
   "execution_count": 30,
   "id": "bc88c2fa",
   "metadata": {},
   "outputs": [],
   "source": [
    "a3 = np.array([[[1,2,3],[3,4,5],[6,7,8]]])"
   ]
  },
  {
   "cell_type": "code",
   "execution_count": 31,
   "id": "c7d54249",
   "metadata": {},
   "outputs": [
    {
     "data": {
      "text/plain": [
       "array(['4', '5', '7', 'data', '34.5', 'True'], dtype='<U32')"
      ]
     },
     "execution_count": 31,
     "metadata": {},
     "output_type": "execute_result"
    }
   ],
   "source": [
    "a1"
   ]
  },
  {
   "cell_type": "code",
   "execution_count": 32,
   "id": "050a28df",
   "metadata": {},
   "outputs": [
    {
     "data": {
      "text/plain": [
       "array([[2, 3, 4],\n",
       "       [3, 4, 7]])"
      ]
     },
     "execution_count": 32,
     "metadata": {},
     "output_type": "execute_result"
    }
   ],
   "source": [
    "a2"
   ]
  },
  {
   "cell_type": "code",
   "execution_count": 33,
   "id": "11bf1bd9",
   "metadata": {},
   "outputs": [
    {
     "data": {
      "text/plain": [
       "array([[[1, 2, 3],\n",
       "        [3, 4, 5],\n",
       "        [6, 7, 8]]])"
      ]
     },
     "execution_count": 33,
     "metadata": {},
     "output_type": "execute_result"
    }
   ],
   "source": [
    "a3"
   ]
  },
  {
   "cell_type": "code",
   "execution_count": null,
   "id": "34788b01",
   "metadata": {},
   "outputs": [],
   "source": [
    "#Array Dimention "
   ]
  },
  {
   "cell_type": "code",
   "execution_count": 34,
   "id": "542c370e",
   "metadata": {},
   "outputs": [
    {
     "data": {
      "text/plain": [
       "1"
      ]
     },
     "execution_count": 34,
     "metadata": {},
     "output_type": "execute_result"
    }
   ],
   "source": [
    "a1.ndim"
   ]
  },
  {
   "cell_type": "code",
   "execution_count": 36,
   "id": "f1055343",
   "metadata": {},
   "outputs": [
    {
     "data": {
      "text/plain": [
       "2"
      ]
     },
     "execution_count": 36,
     "metadata": {},
     "output_type": "execute_result"
    }
   ],
   "source": [
    "a2.ndim"
   ]
  },
  {
   "cell_type": "code",
   "execution_count": 37,
   "id": "7381d7ce",
   "metadata": {},
   "outputs": [
    {
     "data": {
      "text/plain": [
       "3"
      ]
     },
     "execution_count": 37,
     "metadata": {},
     "output_type": "execute_result"
    }
   ],
   "source": [
    "a3.ndim"
   ]
  },
  {
   "cell_type": "code",
   "execution_count": null,
   "id": "49a8d98c",
   "metadata": {},
   "outputs": [],
   "source": [
    "#Size--> no of elements in array"
   ]
  },
  {
   "cell_type": "code",
   "execution_count": 38,
   "id": "d213b8e0",
   "metadata": {},
   "outputs": [
    {
     "data": {
      "text/plain": [
       "4"
      ]
     },
     "execution_count": 38,
     "metadata": {},
     "output_type": "execute_result"
    }
   ],
   "source": [
    "a1.size"
   ]
  },
  {
   "cell_type": "code",
   "execution_count": 39,
   "id": "13f391aa",
   "metadata": {},
   "outputs": [
    {
     "data": {
      "text/plain": [
       "6"
      ]
     },
     "execution_count": 39,
     "metadata": {},
     "output_type": "execute_result"
    }
   ],
   "source": [
    "a2.size"
   ]
  },
  {
   "cell_type": "code",
   "execution_count": 40,
   "id": "3126ba90",
   "metadata": {},
   "outputs": [
    {
     "data": {
      "text/plain": [
       "9"
      ]
     },
     "execution_count": 40,
     "metadata": {},
     "output_type": "execute_result"
    }
   ],
   "source": [
    "a3.size"
   ]
  },
  {
   "cell_type": "code",
   "execution_count": null,
   "id": "aa48a503",
   "metadata": {},
   "outputs": [],
   "source": [
    "#Shape--> "
   ]
  },
  {
   "cell_type": "code",
   "execution_count": 41,
   "id": "562a950b",
   "metadata": {},
   "outputs": [
    {
     "data": {
      "text/plain": [
       "(6,)"
      ]
     },
     "execution_count": 41,
     "metadata": {},
     "output_type": "execute_result"
    }
   ],
   "source": [
    "a1.shape # 6 elements"
   ]
  },
  {
   "cell_type": "code",
   "execution_count": 42,
   "id": "0c6c7c07",
   "metadata": {},
   "outputs": [
    {
     "data": {
      "text/plain": [
       "(2, 3)"
      ]
     },
     "execution_count": 42,
     "metadata": {},
     "output_type": "execute_result"
    }
   ],
   "source": [
    "a2.shape  # 2(rows) 3 (columns)"
   ]
  },
  {
   "cell_type": "code",
   "execution_count": 43,
   "id": "a4177d84",
   "metadata": {},
   "outputs": [
    {
     "data": {
      "text/plain": [
       "(1, 3, 3)"
      ]
     },
     "execution_count": 43,
     "metadata": {},
     "output_type": "execute_result"
    }
   ],
   "source": [
    "a3.shape # 3X3 matrix and 1 dimension"
   ]
  },
  {
   "cell_type": "code",
   "execution_count": 12,
   "id": "ab23f1ed",
   "metadata": {},
   "outputs": [],
   "source": [
    "l = [[1,2,3,4], [2,3,4,5]]"
   ]
  },
  {
   "cell_type": "code",
   "execution_count": 13,
   "id": "4b83ce03",
   "metadata": {},
   "outputs": [
    {
     "data": {
      "text/plain": [
       "2"
      ]
     },
     "execution_count": 13,
     "metadata": {},
     "output_type": "execute_result"
    }
   ],
   "source": [
    "l[0][1]"
   ]
  },
  {
   "cell_type": "code",
   "execution_count": 14,
   "id": "143fa326",
   "metadata": {},
   "outputs": [],
   "source": [
    "a = np.array([3,4,5,6], ndmin = 5)  # dimesion of array"
   ]
  },
  {
   "cell_type": "code",
   "execution_count": 15,
   "id": "3399227e",
   "metadata": {},
   "outputs": [
    {
     "data": {
      "text/plain": [
       "array([[[[[3, 4, 5, 6]]]]])"
      ]
     },
     "execution_count": 15,
     "metadata": {},
     "output_type": "execute_result"
    }
   ],
   "source": [
    "a"
   ]
  },
  {
   "cell_type": "code",
   "execution_count": 24,
   "id": "d9e4051a",
   "metadata": {},
   "outputs": [],
   "source": [
    "a3 = np.array([[[1,2,3],[3,4,5],[6,7,8]]])"
   ]
  },
  {
   "cell_type": "code",
   "execution_count": 25,
   "id": "fe0dd653",
   "metadata": {},
   "outputs": [
    {
     "data": {
      "text/plain": [
       "array([[[1, 2, 3],\n",
       "        [3, 4, 5],\n",
       "        [6, 7, 8]]])"
      ]
     },
     "execution_count": 25,
     "metadata": {},
     "output_type": "execute_result"
    }
   ],
   "source": [
    " a3"
   ]
  },
  {
   "cell_type": "code",
   "execution_count": 16,
   "id": "a816566d",
   "metadata": {},
   "outputs": [
    {
     "data": {
      "text/plain": [
       "2"
      ]
     },
     "execution_count": 16,
     "metadata": {},
     "output_type": "execute_result"
    }
   ],
   "source": [
    "arr.ndim"
   ]
  },
  {
   "cell_type": "code",
   "execution_count": 18,
   "id": "61dbbf13",
   "metadata": {},
   "outputs": [
    {
     "data": {
      "text/plain": [
       "array([[5, 5, 9, 7],\n",
       "       [2, 3, 9, 5],\n",
       "       [5, 2, 2, 7],\n",
       "       [5, 7, 3, 5]])"
      ]
     },
     "execution_count": 18,
     "metadata": {},
     "output_type": "execute_result"
    }
   ],
   "source": [
    "np.random.randint(1,10,(4,4))  #Generating random data set-->dimention- 4X4 range between--1,10"
   ]
  },
  {
   "cell_type": "code",
   "execution_count": 45,
   "id": "68bc168c",
   "metadata": {},
   "outputs": [
    {
     "data": {
      "text/plain": [
       "array([[[42, 33, 39,  8],\n",
       "        [17,  9, 37, 31],\n",
       "        [16, 34, 34,  9]],\n",
       "\n",
       "       [[38, 45, 28, 38],\n",
       "        [39, 46, 18, 43],\n",
       "        [12, 14, 35,  5]]])"
      ]
     },
     "execution_count": 45,
     "metadata": {},
     "output_type": "execute_result"
    }
   ],
   "source": [
    "np.random.randint(2,50,(2, 3,4))"
   ]
  },
  {
   "cell_type": "code",
   "execution_count": 19,
   "id": "d81fca54",
   "metadata": {},
   "outputs": [
    {
     "data": {
      "text/plain": [
       "array([[[5, 6],\n",
       "        [9, 3],\n",
       "        [3, 6],\n",
       "        [5, 9]],\n",
       "\n",
       "       [[8, 3],\n",
       "        [3, 6],\n",
       "        [8, 7],\n",
       "        [7, 8]],\n",
       "\n",
       "       [[5, 6],\n",
       "        [6, 4],\n",
       "        [2, 9],\n",
       "        [9, 8]],\n",
       "\n",
       "       [[7, 9],\n",
       "        [9, 6],\n",
       "        [9, 2],\n",
       "        [1, 3]]])"
      ]
     },
     "execution_count": 19,
     "metadata": {},
     "output_type": "execute_result"
    }
   ],
   "source": [
    "np.random.randint(1,10,(4,4,2)) # 3 dimention  data-->(4,4,2) 4X2 dimention array 4 times in range of 1, 10"
   ]
  },
  {
   "cell_type": "code",
   "execution_count": 46,
   "id": "0019d4e7",
   "metadata": {},
   "outputs": [
    {
     "data": {
      "text/plain": [
       "array([[0.88895445, 0.00157953, 0.13948765],\n",
       "       [0.68489115, 0.02185448, 0.37263745]])"
      ]
     },
     "execution_count": 46,
     "metadata": {},
     "output_type": "execute_result"
    }
   ],
   "source": [
    "np.random.rand(2,3)   ## randn gives data have random meana and std diviation value"
   ]
  },
  {
   "cell_type": "code",
   "execution_count": 49,
   "id": "16de61e5",
   "metadata": {},
   "outputs": [
    {
     "data": {
      "text/plain": [
       "array([[-0.5527564 ,  0.07491924, -1.36525627,  0.55965691],\n",
       "       [ 1.85198749,  0.21800006,  0.58026761, -1.65885562],\n",
       "       [-0.44508539, -0.34521722, -1.3504578 ,  0.06979811],\n",
       "       [-1.25123737,  0.68133991,  0.29596262, -0.62371162]])"
      ]
     },
     "execution_count": 49,
     "metadata": {},
     "output_type": "execute_result"
    }
   ],
   "source": [
    "np.random.randn(4,4)"
   ]
  },
  {
   "cell_type": "code",
   "execution_count": null,
   "id": "20b5bbdd",
   "metadata": {},
   "outputs": [],
   "source": [
    "# randn gives normal distribution data have mean = 0 and std diviation = 1"
   ]
  },
  {
   "cell_type": "code",
   "execution_count": 51,
   "id": "fa54f349",
   "metadata": {},
   "outputs": [],
   "source": [
    " a4 = np.random.randn(4,4)"
   ]
  },
  {
   "cell_type": "code",
   "execution_count": 52,
   "id": "79b3bf39",
   "metadata": {},
   "outputs": [
    {
     "ename": "ValueError",
     "evalue": "cannot reshape array of size 16 into shape (3,4)",
     "output_type": "error",
     "traceback": [
      "\u001b[1;31m---------------------------------------------------------------------------\u001b[0m",
      "\u001b[1;31mValueError\u001b[0m                                Traceback (most recent call last)",
      "\u001b[1;32m~\\AppData\\Local\\Temp/ipykernel_14972/238737660.py\u001b[0m in \u001b[0;36m<module>\u001b[1;34m\u001b[0m\n\u001b[1;32m----> 1\u001b[1;33m \u001b[0ma4\u001b[0m\u001b[1;33m.\u001b[0m\u001b[0mreshape\u001b[0m\u001b[1;33m(\u001b[0m\u001b[1;36m3\u001b[0m\u001b[1;33m,\u001b[0m\u001b[1;36m4\u001b[0m\u001b[1;33m)\u001b[0m\u001b[1;33m\u001b[0m\u001b[1;33m\u001b[0m\u001b[0m\n\u001b[0m",
      "\u001b[1;31mValueError\u001b[0m: cannot reshape array of size 16 into shape (3,4)"
     ]
    }
   ],
   "source": [
    "a4.reshape(3,4)  # will not work it should have same size or factorial of original data i.e 4X4 = 16, 8X2 = 16 , 16X1"
   ]
  },
  {
   "cell_type": "code",
   "execution_count": 53,
   "id": "082c0db1",
   "metadata": {},
   "outputs": [
    {
     "data": {
      "text/plain": [
       "array([[ 0.40972776,  0.46021965],\n",
       "       [-0.32657427, -0.23531533],\n",
       "       [ 1.52018399, -0.69038498],\n",
       "       [ 0.81754594,  0.30389067],\n",
       "       [ 1.54708997, -0.09191602],\n",
       "       [-0.72007141, -0.3763987 ],\n",
       "       [ 1.02664807, -1.39034724],\n",
       "       [-0.81469463,  0.17373761]])"
      ]
     },
     "execution_count": 53,
     "metadata": {},
     "output_type": "execute_result"
    }
   ],
   "source": [
    "a4.reshape(8,2)"
   ]
  },
  {
   "cell_type": "code",
   "execution_count": 54,
   "id": "4444cd3c",
   "metadata": {},
   "outputs": [
    {
     "data": {
      "text/plain": [
       "array([[ 0.40972776,  0.46021965, -0.32657427, -0.23531533,  1.52018399,\n",
       "        -0.69038498,  0.81754594,  0.30389067],\n",
       "       [ 1.54708997, -0.09191602, -0.72007141, -0.3763987 ,  1.02664807,\n",
       "        -1.39034724, -0.81469463,  0.17373761]])"
      ]
     },
     "execution_count": 54,
     "metadata": {},
     "output_type": "execute_result"
    }
   ],
   "source": [
    "a4.reshape(2,-1)  # in this numpy will check factorial of that no on place of negative no"
   ]
  },
  {
   "cell_type": "code",
   "execution_count": 55,
   "id": "9d0cc581",
   "metadata": {},
   "outputs": [
    {
     "data": {
      "text/plain": [
       "array([[[ 0.40972776,  0.46021965, -0.32657427, -0.23531533],\n",
       "        [ 1.52018399, -0.69038498,  0.81754594,  0.30389067]],\n",
       "\n",
       "       [[ 1.54708997, -0.09191602, -0.72007141, -0.3763987 ],\n",
       "        [ 1.02664807, -1.39034724, -0.81469463,  0.17373761]]])"
      ]
     },
     "execution_count": 55,
     "metadata": {},
     "output_type": "execute_result"
    }
   ],
   "source": [
    "a4.reshape(2,2,4)"
   ]
  },
  {
   "cell_type": "code",
   "execution_count": 56,
   "id": "5dbf6e73",
   "metadata": {},
   "outputs": [
    {
     "data": {
      "text/plain": [
       "array([[[[[[ 0.40972776,  0.46021965, -0.32657427, -0.23531533],\n",
       "           [ 1.52018399, -0.69038498,  0.81754594,  0.30389067]],\n",
       "\n",
       "          [[ 1.54708997, -0.09191602, -0.72007141, -0.3763987 ],\n",
       "           [ 1.02664807, -1.39034724, -0.81469463,  0.17373761]]]]]])"
      ]
     },
     "execution_count": 56,
     "metadata": {},
     "output_type": "execute_result"
    }
   ],
   "source": [
    "a4.reshape(1,1,1,2,2,4)"
   ]
  },
  {
   "cell_type": "code",
   "execution_count": 57,
   "id": "8535b137",
   "metadata": {},
   "outputs": [
    {
     "data": {
      "text/plain": [
       "array(['4', '5', '7', 'data', '34.5', 'True'], dtype='<U32')"
      ]
     },
     "execution_count": 57,
     "metadata": {},
     "output_type": "execute_result"
    }
   ],
   "source": [
    "a1"
   ]
  },
  {
   "cell_type": "code",
   "execution_count": 58,
   "id": "f479f7d6",
   "metadata": {},
   "outputs": [
    {
     "data": {
      "text/plain": [
       "'4'"
      ]
     },
     "execution_count": 58,
     "metadata": {},
     "output_type": "execute_result"
    }
   ],
   "source": [
    "a1[0]"
   ]
  },
  {
   "cell_type": "code",
   "execution_count": 59,
   "id": "4a21f241",
   "metadata": {},
   "outputs": [
    {
     "data": {
      "text/plain": [
       "array(['7', 'data', '34.5'], dtype='<U32')"
      ]
     },
     "execution_count": 59,
     "metadata": {},
     "output_type": "execute_result"
    }
   ],
   "source": [
    "a1[2:5]"
   ]
  },
  {
   "cell_type": "code",
   "execution_count": 60,
   "id": "929a61a1",
   "metadata": {},
   "outputs": [
    {
     "data": {
      "text/plain": [
       "array(['5', 'data'], dtype='<U32')"
      ]
     },
     "execution_count": 60,
     "metadata": {},
     "output_type": "execute_result"
    }
   ],
   "source": [
    "a1[1:5:2]"
   ]
  },
  {
   "cell_type": "code",
   "execution_count": 61,
   "id": "69d2aa6d",
   "metadata": {},
   "outputs": [
    {
     "data": {
      "text/plain": [
       "array(['True', '34.5', 'data', '7', '5', '4'], dtype='<U32')"
      ]
     },
     "execution_count": 61,
     "metadata": {},
     "output_type": "execute_result"
    }
   ],
   "source": [
    "a1[::-1]"
   ]
  },
  {
   "cell_type": "code",
   "execution_count": 62,
   "id": "1c1488b3",
   "metadata": {},
   "outputs": [
    {
     "data": {
      "text/plain": [
       "array([[2, 3, 4],\n",
       "       [3, 4, 7]])"
      ]
     },
     "execution_count": 62,
     "metadata": {},
     "output_type": "execute_result"
    }
   ],
   "source": [
    "a2"
   ]
  },
  {
   "cell_type": "code",
   "execution_count": 63,
   "id": "c107e682",
   "metadata": {},
   "outputs": [
    {
     "data": {
      "text/plain": [
       "array([2, 3, 4])"
      ]
     },
     "execution_count": 63,
     "metadata": {},
     "output_type": "execute_result"
    }
   ],
   "source": [
    "a2[0]"
   ]
  },
  {
   "cell_type": "code",
   "execution_count": 66,
   "id": "f094885f",
   "metadata": {},
   "outputs": [
    {
     "data": {
      "text/plain": [
       "array([[3, 4],\n",
       "       [4, 7]])"
      ]
     },
     "execution_count": 66,
     "metadata": {},
     "output_type": "execute_result"
    }
   ],
   "source": [
    "a2[:,1:] "
   ]
  },
  {
   "cell_type": "code",
   "execution_count": null,
   "id": "df3388ed",
   "metadata": {},
   "outputs": [],
   "source": [
    "''''' : before the comma represents selecting all rows in the array. Since there is no specific range specified, it selects all rows. So, a2[:, ...] effectively selects all rows of the array.\n",
    "\n",
    ", separates the row and column selections.\n",
    "\n",
    "1: after the comma specifies the column selection. It selects all columns starting from index 1 up to the end.\n",
    "By combining the row and column selections, the expression a2[:, 1:] selects all rows and the columns starting from index 1 (the second column) up to the end.'''''"
   ]
  },
  {
   "cell_type": "code",
   "execution_count": 67,
   "id": "b15d1a84",
   "metadata": {},
   "outputs": [
    {
     "data": {
      "text/plain": [
       "array([[3, 4],\n",
       "       [4, 7]])"
      ]
     },
     "execution_count": 67,
     "metadata": {},
     "output_type": "execute_result"
    }
   ],
   "source": [
    "a2[:,[1,2]]"
   ]
  },
  {
   "cell_type": "code",
   "execution_count": 68,
   "id": "dc97701c",
   "metadata": {},
   "outputs": [
    {
     "data": {
      "text/plain": [
       "array([[3, 4],\n",
       "       [4, 7]])"
      ]
     },
     "execution_count": 68,
     "metadata": {},
     "output_type": "execute_result"
    }
   ],
   "source": [
    "a2[[0,1],1:]"
   ]
  },
  {
   "cell_type": "code",
   "execution_count": 69,
   "id": "49b3313c",
   "metadata": {},
   "outputs": [
    {
     "data": {
      "text/plain": [
       "array([3, 7])"
      ]
     },
     "execution_count": 69,
     "metadata": {},
     "output_type": "execute_result"
    }
   ],
   "source": [
    "a2[[0,1],[1,2]]  #, separates the row and column selections."
   ]
  },
  {
   "cell_type": "code",
   "execution_count": 70,
   "id": "4961c39c",
   "metadata": {},
   "outputs": [
    {
     "data": {
      "text/plain": [
       "array([[3, 4],\n",
       "       [4, 7]])"
      ]
     },
     "execution_count": 70,
     "metadata": {},
     "output_type": "execute_result"
    }
   ],
   "source": [
    "a2[[0,1],1:]"
   ]
  },
  {
   "cell_type": "code",
   "execution_count": 72,
   "id": "9937e50e",
   "metadata": {},
   "outputs": [],
   "source": [
    "a5 = np.random.randint(2,90,(6,5))"
   ]
  },
  {
   "cell_type": "code",
   "execution_count": 73,
   "id": "dc9b26da",
   "metadata": {},
   "outputs": [
    {
     "data": {
      "text/plain": [
       "array([[40, 30, 75, 82, 54],\n",
       "       [13,  3, 27, 17, 67],\n",
       "       [23, 81, 72, 33, 77],\n",
       "       [72, 21, 74, 46, 25],\n",
       "       [ 9, 22, 63, 73, 27],\n",
       "       [68, 66,  3, 84, 30]])"
      ]
     },
     "execution_count": 73,
     "metadata": {},
     "output_type": "execute_result"
    }
   ],
   "source": [
    "a5"
   ]
  },
  {
   "cell_type": "code",
   "execution_count": 74,
   "id": "a59badc7",
   "metadata": {},
   "outputs": [
    {
     "data": {
      "text/plain": [
       "array([75, 82, 54, 67, 81, 72, 77, 72, 74, 46, 63, 73, 68, 66, 84])"
      ]
     },
     "execution_count": 74,
     "metadata": {},
     "output_type": "execute_result"
    }
   ],
   "source": [
    "a5[a5>40]  #element greater than 40"
   ]
  },
  {
   "cell_type": "code",
   "execution_count": null,
   "id": "4e3e4ad4",
   "metadata": {},
   "outputs": [],
   "source": [
    "#Change elements in array a5"
   ]
  },
  {
   "cell_type": "code",
   "execution_count": 75,
   "id": "d885aafc",
   "metadata": {},
   "outputs": [
    {
     "data": {
      "text/plain": [
       "30"
      ]
     },
     "execution_count": 75,
     "metadata": {},
     "output_type": "execute_result"
    }
   ],
   "source": [
    "a5[0,1]  #0,1 is coordinates"
   ]
  },
  {
   "cell_type": "code",
   "execution_count": 76,
   "id": "42f7eeb3",
   "metadata": {},
   "outputs": [],
   "source": [
    "a5[0,1] = 31"
   ]
  },
  {
   "cell_type": "code",
   "execution_count": 77,
   "id": "2c2e5307",
   "metadata": {},
   "outputs": [
    {
     "data": {
      "text/plain": [
       "array([[40, 31, 75, 82, 54],\n",
       "       [13,  3, 27, 17, 67],\n",
       "       [23, 81, 72, 33, 77],\n",
       "       [72, 21, 74, 46, 25],\n",
       "       [ 9, 22, 63, 73, 27],\n",
       "       [68, 66,  3, 84, 30]])"
      ]
     },
     "execution_count": 77,
     "metadata": {},
     "output_type": "execute_result"
    }
   ],
   "source": [
    "a5"
   ]
  },
  {
   "cell_type": "code",
   "execution_count": 84,
   "id": "7eb16a7b",
   "metadata": {},
   "outputs": [],
   "source": [
    "a6 = np.random.randint(0,3,(3,3))"
   ]
  },
  {
   "cell_type": "code",
   "execution_count": 79,
   "id": "6d371328",
   "metadata": {},
   "outputs": [],
   "source": [
    "a7 = np.random.randint(0,3,(3,3))"
   ]
  },
  {
   "cell_type": "code",
   "execution_count": 85,
   "id": "9de4a74a",
   "metadata": {},
   "outputs": [
    {
     "data": {
      "text/plain": [
       "array([[0, 0, 1],\n",
       "       [2, 2, 1],\n",
       "       [2, 1, 0]])"
      ]
     },
     "execution_count": 85,
     "metadata": {},
     "output_type": "execute_result"
    }
   ],
   "source": [
    "a6"
   ]
  },
  {
   "cell_type": "code",
   "execution_count": 81,
   "id": "ccfbbf36",
   "metadata": {},
   "outputs": [
    {
     "data": {
      "text/plain": [
       "array([[1, 0, 2],\n",
       "       [0, 0, 2],\n",
       "       [2, 2, 1]])"
      ]
     },
     "execution_count": 81,
     "metadata": {},
     "output_type": "execute_result"
    }
   ],
   "source": [
    "a7"
   ]
  },
  {
   "cell_type": "code",
   "execution_count": 86,
   "id": "cfc6645c",
   "metadata": {},
   "outputs": [
    {
     "data": {
      "text/plain": [
       "array([[0, 0, 2],\n",
       "       [0, 0, 2],\n",
       "       [4, 2, 0]])"
      ]
     },
     "execution_count": 86,
     "metadata": {},
     "output_type": "execute_result"
    }
   ],
   "source": [
    "a6*a7 # element vise multiplication"
   ]
  },
  {
   "cell_type": "code",
   "execution_count": 87,
   "id": "903c6705",
   "metadata": {},
   "outputs": [
    {
     "data": {
      "text/plain": [
       "array([[2, 2, 1],\n",
       "       [4, 2, 9],\n",
       "       [2, 0, 6]])"
      ]
     },
     "execution_count": 87,
     "metadata": {},
     "output_type": "execute_result"
    }
   ],
   "source": [
    "a6@a7  #Matrix Multiplication"
   ]
  },
  {
   "cell_type": "code",
   "execution_count": 88,
   "id": "d61b9668",
   "metadata": {},
   "outputs": [
    {
     "data": {
      "text/plain": [
       "array([[100, 100, 101],\n",
       "       [102, 102, 101],\n",
       "       [102, 101, 100]])"
      ]
     },
     "execution_count": 88,
     "metadata": {},
     "output_type": "execute_result"
    }
   ],
   "source": [
    "a6+100"
   ]
  },
  {
   "cell_type": "code",
   "execution_count": 89,
   "id": "ce3d6147",
   "metadata": {},
   "outputs": [
    {
     "data": {
      "text/plain": [
       "array([[0, 0, 2],\n",
       "       [4, 4, 2],\n",
       "       [4, 2, 0]])"
      ]
     },
     "execution_count": 89,
     "metadata": {},
     "output_type": "execute_result"
    }
   ],
   "source": [
    "a6*2"
   ]
  },
  {
   "cell_type": "code",
   "execution_count": 90,
   "id": "c7d8be07",
   "metadata": {},
   "outputs": [
    {
     "name": "stderr",
     "output_type": "stream",
     "text": [
      "C:\\Users\\Lenovo\\AppData\\Local\\Temp/ipykernel_14972/1058679823.py:1: RuntimeWarning: divide by zero encountered in divide\n",
      "  a6/0\n",
      "C:\\Users\\Lenovo\\AppData\\Local\\Temp/ipykernel_14972/1058679823.py:1: RuntimeWarning: invalid value encountered in divide\n",
      "  a6/0\n"
     ]
    },
    {
     "data": {
      "text/plain": [
       "array([[nan, nan, inf],\n",
       "       [inf, inf, inf],\n",
       "       [inf, inf, nan]])"
      ]
     },
     "execution_count": 90,
     "metadata": {},
     "output_type": "execute_result"
    }
   ],
   "source": [
    "a6/0"
   ]
  },
  {
   "cell_type": "code",
   "execution_count": 91,
   "id": "bc7258c6",
   "metadata": {
    "collapsed": true
   },
   "outputs": [
    {
     "data": {
      "text/plain": [
       "array([[0, 0, 1],\n",
       "       [8, 8, 1],\n",
       "       [8, 1, 0]], dtype=int32)"
      ]
     },
     "execution_count": 91,
     "metadata": {},
     "output_type": "execute_result"
    }
   ],
   "source": [
    "a6**3"
   ]
  },
  {
   "cell_type": "code",
   "execution_count": 93,
   "id": "19061396",
   "metadata": {},
   "outputs": [],
   "source": [
    "a8 = np.zeros((4,4))"
   ]
  },
  {
   "cell_type": "code",
   "execution_count": 94,
   "id": "21898e17",
   "metadata": {},
   "outputs": [
    {
     "data": {
      "text/plain": [
       "array([[0., 0., 0., 0.],\n",
       "       [0., 0., 0., 0.],\n",
       "       [0., 0., 0., 0.],\n",
       "       [0., 0., 0., 0.]])"
      ]
     },
     "execution_count": 94,
     "metadata": {},
     "output_type": "execute_result"
    }
   ],
   "source": [
    "a8"
   ]
  },
  {
   "cell_type": "code",
   "execution_count": 96,
   "id": "2957484d",
   "metadata": {},
   "outputs": [],
   "source": [
    "a9 = np.ones((4,5))"
   ]
  },
  {
   "cell_type": "code",
   "execution_count": 97,
   "id": "606f5eb3",
   "metadata": {},
   "outputs": [
    {
     "data": {
      "text/plain": [
       "array([[1., 1., 1., 1., 1.],\n",
       "       [1., 1., 1., 1., 1.],\n",
       "       [1., 1., 1., 1., 1.],\n",
       "       [1., 1., 1., 1., 1.]])"
      ]
     },
     "execution_count": 97,
     "metadata": {},
     "output_type": "execute_result"
    }
   ],
   "source": [
    "a9"
   ]
  },
  {
   "cell_type": "code",
   "execution_count": 98,
   "id": "7269e047",
   "metadata": {},
   "outputs": [
    {
     "data": {
      "text/plain": [
       "array([[11., 11., 11., 11., 11.],\n",
       "       [11., 11., 11., 11., 11.],\n",
       "       [11., 11., 11., 11., 11.],\n",
       "       [11., 11., 11., 11., 11.]])"
      ]
     },
     "execution_count": 98,
     "metadata": {},
     "output_type": "execute_result"
    }
   ],
   "source": [
    "a9 + 10"
   ]
  },
  {
   "cell_type": "code",
   "execution_count": 99,
   "id": "c61e4688",
   "metadata": {},
   "outputs": [
    {
     "data": {
      "text/plain": [
       "array([[2., 3., 4., 5., 6.],\n",
       "       [2., 3., 4., 5., 6.],\n",
       "       [2., 3., 4., 5., 6.],\n",
       "       [2., 3., 4., 5., 6.]])"
      ]
     },
     "execution_count": 99,
     "metadata": {},
     "output_type": "execute_result"
    }
   ],
   "source": [
    "a9 + np.array([1,2,3,4,5])  # braodcasting operations= row vise addition, need equal elements"
   ]
  },
  {
   "cell_type": "code",
   "execution_count": 101,
   "id": "da07431b",
   "metadata": {},
   "outputs": [
    {
     "data": {
      "text/plain": [
       "array([[1],\n",
       "       [2],\n",
       "       [3],\n",
       "       [4]])"
      ]
     },
     "execution_count": 101,
     "metadata": {},
     "output_type": "execute_result"
    }
   ],
   "source": [
    "np.array([[1,2,3,4]]).T  # transpose operation, need 2 brakets"
   ]
  },
  {
   "cell_type": "code",
   "execution_count": 102,
   "id": "1ac873b6",
   "metadata": {},
   "outputs": [
    {
     "data": {
      "text/plain": [
       "array([[2., 2., 2., 2., 2.],\n",
       "       [3., 3., 3., 3., 3.],\n",
       "       [4., 4., 4., 4., 4.],\n",
       "       [5., 5., 5., 5., 5.]])"
      ]
     },
     "execution_count": 102,
     "metadata": {},
     "output_type": "execute_result"
    }
   ],
   "source": [
    "np.array([[1,2,3,4]]).T + a9"
   ]
  },
  {
   "cell_type": "code",
   "execution_count": 103,
   "id": "bfe2307d",
   "metadata": {},
   "outputs": [
    {
     "data": {
      "text/plain": [
       "array([[0, 0, 1],\n",
       "       [2, 2, 1],\n",
       "       [2, 1, 0]])"
      ]
     },
     "execution_count": 103,
     "metadata": {},
     "output_type": "execute_result"
    }
   ],
   "source": [
    "a6"
   ]
  },
  {
   "cell_type": "code",
   "execution_count": 104,
   "id": "fb7fba0b",
   "metadata": {},
   "outputs": [
    {
     "data": {
      "text/plain": [
       "array([[0, 2, 2],\n",
       "       [0, 2, 1],\n",
       "       [1, 1, 0]])"
      ]
     },
     "execution_count": 104,
     "metadata": {},
     "output_type": "execute_result"
    }
   ],
   "source": [
    "a6.T"
   ]
  },
  {
   "cell_type": "code",
   "execution_count": 105,
   "id": "f523977c",
   "metadata": {},
   "outputs": [
    {
     "data": {
      "text/plain": [
       "array([[40, 31, 75, 82, 54],\n",
       "       [13,  3, 27, 17, 67],\n",
       "       [23, 81, 72, 33, 77],\n",
       "       [72, 21, 74, 46, 25],\n",
       "       [ 9, 22, 63, 73, 27],\n",
       "       [68, 66,  3, 84, 30]])"
      ]
     },
     "execution_count": 105,
     "metadata": {},
     "output_type": "execute_result"
    }
   ],
   "source": [
    "a5"
   ]
  },
  {
   "cell_type": "code",
   "execution_count": 106,
   "id": "e300d05d",
   "metadata": {},
   "outputs": [
    {
     "data": {
      "text/plain": [
       "array([[6.32455532, 5.56776436, 8.66025404, 9.05538514, 7.34846923],\n",
       "       [3.60555128, 1.73205081, 5.19615242, 4.12310563, 8.18535277],\n",
       "       [4.79583152, 9.        , 8.48528137, 5.74456265, 8.77496439],\n",
       "       [8.48528137, 4.58257569, 8.60232527, 6.78232998, 5.        ],\n",
       "       [3.        , 4.69041576, 7.93725393, 8.54400375, 5.19615242],\n",
       "       [8.24621125, 8.1240384 , 1.73205081, 9.16515139, 5.47722558]])"
      ]
     },
     "execution_count": 106,
     "metadata": {},
     "output_type": "execute_result"
    }
   ],
   "source": [
    "np.sqrt(a5)"
   ]
  },
  {
   "cell_type": "code",
   "execution_count": 107,
   "id": "4949bf0d",
   "metadata": {},
   "outputs": [
    {
     "data": {
      "text/plain": [
       "array([[2.35385267e+17, 2.90488497e+13, 3.73324200e+32, 4.09399696e+35,\n",
       "        2.83075330e+23],\n",
       "       [4.42413392e+05, 2.00855369e+01, 5.32048241e+11, 2.41549528e+07,\n",
       "        1.25236317e+29],\n",
       "       [9.74480345e+09, 1.50609731e+35, 1.85867175e+31, 2.14643580e+14,\n",
       "        2.75851345e+33],\n",
       "       [1.85867175e+31, 1.31881573e+09, 1.37338298e+32, 9.49611942e+19,\n",
       "        7.20048993e+10],\n",
       "       [8.10308393e+03, 3.58491285e+09, 2.29378316e+27, 5.05239363e+31,\n",
       "        5.32048241e+11],\n",
       "       [3.40427605e+29, 4.60718663e+28, 2.00855369e+01, 3.02507732e+36,\n",
       "        1.06864746e+13]])"
      ]
     },
     "execution_count": 107,
     "metadata": {},
     "output_type": "execute_result"
    }
   ],
   "source": [
    "np.exp(a5)"
   ]
  },
  {
   "cell_type": "code",
   "execution_count": 108,
   "id": "b4160528",
   "metadata": {},
   "outputs": [
    {
     "data": {
      "text/plain": [
       "array([[1.60205999, 1.49136169, 1.87506126, 1.91381385, 1.73239376],\n",
       "       [1.11394335, 0.47712125, 1.43136376, 1.23044892, 1.8260748 ],\n",
       "       [1.36172784, 1.90848502, 1.8573325 , 1.51851394, 1.88649073],\n",
       "       [1.8573325 , 1.32221929, 1.86923172, 1.66275783, 1.39794001],\n",
       "       [0.95424251, 1.34242268, 1.79934055, 1.86332286, 1.43136376],\n",
       "       [1.83250891, 1.81954394, 0.47712125, 1.92427929, 1.47712125]])"
      ]
     },
     "execution_count": 108,
     "metadata": {},
     "output_type": "execute_result"
    }
   ],
   "source": [
    "np.log10(a5)"
   ]
  },
  {
   "cell_type": "code",
   "execution_count": 109,
   "id": "a72f18d1",
   "metadata": {},
   "outputs": [
    {
     "data": {
      "text/plain": [
       "range(0, 10)"
      ]
     },
     "execution_count": 109,
     "metadata": {},
     "output_type": "execute_result"
    }
   ],
   "source": [
    "range(0,10)"
   ]
  },
  {
   "cell_type": "code",
   "execution_count": 110,
   "id": "4a5fb2d4",
   "metadata": {},
   "outputs": [
    {
     "data": {
      "text/plain": [
       "[0, 1, 2, 3, 4, 5, 6, 7, 8, 9]"
      ]
     },
     "execution_count": 110,
     "metadata": {},
     "output_type": "execute_result"
    }
   ],
   "source": [
    "list(range(0,10))"
   ]
  },
  {
   "cell_type": "code",
   "execution_count": 111,
   "id": "8b7504c4",
   "metadata": {},
   "outputs": [
    {
     "data": {
      "text/plain": [
       "[0, 2, 4, 6, 8]"
      ]
     },
     "execution_count": 111,
     "metadata": {},
     "output_type": "execute_result"
    }
   ],
   "source": [
    "list(range(0,10,2)) "
   ]
  },
  {
   "cell_type": "code",
   "execution_count": 112,
   "id": "4e2c5fd8",
   "metadata": {},
   "outputs": [
    {
     "ename": "TypeError",
     "evalue": "'float' object cannot be interpreted as an integer",
     "output_type": "error",
     "traceback": [
      "\u001b[1;31m---------------------------------------------------------------------------\u001b[0m",
      "\u001b[1;31mTypeError\u001b[0m                                 Traceback (most recent call last)",
      "\u001b[1;32m~\\AppData\\Local\\Temp/ipykernel_14972/1262845132.py\u001b[0m in \u001b[0;36m<module>\u001b[1;34m\u001b[0m\n\u001b[1;32m----> 1\u001b[1;33m \u001b[0mlist\u001b[0m\u001b[1;33m(\u001b[0m\u001b[0mrange\u001b[0m\u001b[1;33m(\u001b[0m\u001b[1;36m0\u001b[0m\u001b[1;33m,\u001b[0m\u001b[1;36m10\u001b[0m\u001b[1;33m,\u001b[0m\u001b[1;36m2.5\u001b[0m\u001b[1;33m)\u001b[0m\u001b[1;33m)\u001b[0m\u001b[1;33m\u001b[0m\u001b[1;33m\u001b[0m\u001b[0m\n\u001b[0m",
      "\u001b[1;31mTypeError\u001b[0m: 'float' object cannot be interpreted as an integer"
     ]
    }
   ],
   "source": [
    "list(range(0,10,2.5)) # jump of 2.5 is not possible"
   ]
  },
  {
   "cell_type": "code",
   "execution_count": 113,
   "id": "17b164e9",
   "metadata": {},
   "outputs": [
    {
     "data": {
      "text/plain": [
       "array([0, 1, 2, 3, 4, 5, 6, 7, 8, 9])"
      ]
     },
     "execution_count": 113,
     "metadata": {},
     "output_type": "execute_result"
    }
   ],
   "source": [
    "np.arange(10)"
   ]
  },
  {
   "cell_type": "code",
   "execution_count": 114,
   "id": "2ed71a89",
   "metadata": {},
   "outputs": [
    {
     "data": {
      "text/plain": [
       "array([1. , 3.5, 6. , 8.5])"
      ]
     },
     "execution_count": 114,
     "metadata": {},
     "output_type": "execute_result"
    }
   ],
   "source": [
    "np.arange(1,10,2.5)"
   ]
  },
  {
   "cell_type": "code",
   "execution_count": 115,
   "id": "6d63870a",
   "metadata": {},
   "outputs": [
    {
     "data": {
      "text/plain": [
       "array([1.7, 4.2, 6.7, 9.2])"
      ]
     },
     "execution_count": 115,
     "metadata": {},
     "output_type": "execute_result"
    }
   ],
   "source": [
    "np.arange(1.7,10.5,2.5)"
   ]
  },
  {
   "cell_type": "code",
   "execution_count": 117,
   "id": "e4abdd87",
   "metadata": {},
   "outputs": [
    {
     "data": {
      "text/plain": [
       "array([2.        , 2.02040816, 2.04081633, 2.06122449, 2.08163265,\n",
       "       2.10204082, 2.12244898, 2.14285714, 2.16326531, 2.18367347,\n",
       "       2.20408163, 2.2244898 , 2.24489796, 2.26530612, 2.28571429,\n",
       "       2.30612245, 2.32653061, 2.34693878, 2.36734694, 2.3877551 ,\n",
       "       2.40816327, 2.42857143, 2.44897959, 2.46938776, 2.48979592,\n",
       "       2.51020408, 2.53061224, 2.55102041, 2.57142857, 2.59183673,\n",
       "       2.6122449 , 2.63265306, 2.65306122, 2.67346939, 2.69387755,\n",
       "       2.71428571, 2.73469388, 2.75510204, 2.7755102 , 2.79591837,\n",
       "       2.81632653, 2.83673469, 2.85714286, 2.87755102, 2.89795918,\n",
       "       2.91836735, 2.93877551, 2.95918367, 2.97959184, 3.        ])"
      ]
     },
     "execution_count": 117,
     "metadata": {},
     "output_type": "execute_result"
    }
   ],
   "source": [
    "np.linspace(2,3, num = 50)  # to generate 50 numbers in equal no between 2 to 3"
   ]
  },
  {
   "cell_type": "code",
   "execution_count": 118,
   "id": "1b5de59f",
   "metadata": {},
   "outputs": [
    {
     "data": {
      "text/plain": [
       "(array([2.        , 2.02040816, 2.04081633, 2.06122449, 2.08163265,\n",
       "        2.10204082, 2.12244898, 2.14285714, 2.16326531, 2.18367347,\n",
       "        2.20408163, 2.2244898 , 2.24489796, 2.26530612, 2.28571429,\n",
       "        2.30612245, 2.32653061, 2.34693878, 2.36734694, 2.3877551 ,\n",
       "        2.40816327, 2.42857143, 2.44897959, 2.46938776, 2.48979592,\n",
       "        2.51020408, 2.53061224, 2.55102041, 2.57142857, 2.59183673,\n",
       "        2.6122449 , 2.63265306, 2.65306122, 2.67346939, 2.69387755,\n",
       "        2.71428571, 2.73469388, 2.75510204, 2.7755102 , 2.79591837,\n",
       "        2.81632653, 2.83673469, 2.85714286, 2.87755102, 2.89795918,\n",
       "        2.91836735, 2.93877551, 2.95918367, 2.97959184, 3.        ]),\n",
       " 0.02040816326530612)"
      ]
     },
     "execution_count": 118,
     "metadata": {},
     "output_type": "execute_result"
    }
   ],
   "source": [
    "np.linspace(2,3, num = 50, retstep = True)  # retstep is step/jump size"
   ]
  },
  {
   "cell_type": "code",
   "execution_count": 119,
   "id": "b663d96c",
   "metadata": {},
   "outputs": [
    {
     "data": {
      "text/plain": [
       "array([  100.        ,   464.15888336,  2154.43469003, 10000.        ])"
      ]
     },
     "execution_count": 119,
     "metadata": {},
     "output_type": "execute_result"
    }
   ],
   "source": [
    "np.logspace(2,4, num = 4, base = 10)"
   ]
  },
  {
   "cell_type": "code",
   "execution_count": 120,
   "id": "c1f2fe6d",
   "metadata": {},
   "outputs": [
    {
     "data": {
      "text/plain": [
       "array([  121.        ,   598.47658063,  2960.11750055, 14641.        ])"
      ]
     },
     "execution_count": 120,
     "metadata": {},
     "output_type": "execute_result"
    }
   ],
   "source": [
    "np.logspace(2,4, num = 4, base = 11)"
   ]
  },
  {
   "cell_type": "code",
   "execution_count": null,
   "id": "8e301d9a",
   "metadata": {},
   "outputs": [],
   "source": [
    "# Identity matrix , dia = 1 dim =1 r = c"
   ]
  },
  {
   "cell_type": "code",
   "execution_count": 121,
   "id": "5bbdce06",
   "metadata": {},
   "outputs": [
    {
     "data": {
      "text/plain": [
       "array([[1., 0., 0., 0., 0.],\n",
       "       [0., 1., 0., 0., 0.],\n",
       "       [0., 0., 1., 0., 0.],\n",
       "       [0., 0., 0., 1., 0.],\n",
       "       [0., 0., 0., 0., 1.]])"
      ]
     },
     "execution_count": 121,
     "metadata": {},
     "output_type": "execute_result"
    }
   ],
   "source": [
    "np.eye(5)"
   ]
  },
  {
   "cell_type": "code",
   "execution_count": null,
   "id": "760df5db",
   "metadata": {},
   "outputs": [],
   "source": []
  },
  {
   "cell_type": "code",
   "execution_count": null,
   "id": "4dcd34f0",
   "metadata": {},
   "outputs": [],
   "source": []
  },
  {
   "cell_type": "code",
   "execution_count": null,
   "id": "25e7917b",
   "metadata": {},
   "outputs": [],
   "source": []
  }
 ],
 "metadata": {
  "kernelspec": {
   "display_name": "Python 3 (ipykernel)",
   "language": "python",
   "name": "python3"
  },
  "language_info": {
   "codemirror_mode": {
    "name": "ipython",
    "version": 3
   },
   "file_extension": ".py",
   "mimetype": "text/x-python",
   "name": "python",
   "nbconvert_exporter": "python",
   "pygments_lexer": "ipython3",
   "version": "3.9.7"
  }
 },
 "nbformat": 4,
 "nbformat_minor": 5
}
